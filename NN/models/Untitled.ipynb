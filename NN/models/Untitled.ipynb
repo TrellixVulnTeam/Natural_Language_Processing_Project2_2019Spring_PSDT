{
 "cells": [
  {
   "cell_type": "code",
   "execution_count": 34,
   "metadata": {},
   "outputs": [],
   "source": [
    "import torch\n",
    "import torch.nn as nn"
   ]
  },
  {
   "cell_type": "code",
   "execution_count": 42,
   "metadata": {},
   "outputs": [],
   "source": [
    "def temp(querys):\n",
    "    shapes = [querys[0].shape,querys[1].shape]\n",
    "\n",
    "    query_expand = [\n",
    "        querys[0].repeat(1,shapes[1][1],1),\n",
    "        querys[1].repeat(1,1,shapes[0][1]).view(shapes[1][0],shapes[1][1]*shapes[0][1],shapes[1][2])\n",
    "    ]\n",
    "    return torch.cat(query_expand,dim=-1)"
   ]
  },
  {
   "cell_type": "code",
   "execution_count": 43,
   "metadata": {},
   "outputs": [
    {
     "data": {
      "text/plain": [
       "tensor([[[0.0635, 0.3842, 0.7065, 0.8774, 0.6848, 0.7471],\n",
       "         [0.7224, 0.7712, 0.7957, 0.8774, 0.6848, 0.7471],\n",
       "         [0.0588, 0.6019, 0.6082, 0.8774, 0.6848, 0.7471],\n",
       "         [0.0635, 0.3842, 0.7065, 0.9775, 0.4543, 0.6879],\n",
       "         [0.7224, 0.7712, 0.7957, 0.9775, 0.4543, 0.6879],\n",
       "         [0.0588, 0.6019, 0.6082, 0.9775, 0.4543, 0.6879]],\n",
       "\n",
       "        [[0.4609, 0.2828, 0.7511, 0.3259, 0.4567, 0.5396],\n",
       "         [0.6247, 0.0637, 0.5416, 0.3259, 0.4567, 0.5396],\n",
       "         [0.0057, 0.1989, 0.4248, 0.3259, 0.4567, 0.5396],\n",
       "         [0.4609, 0.2828, 0.7511, 0.8937, 0.1343, 0.2951],\n",
       "         [0.6247, 0.0637, 0.5416, 0.8937, 0.1343, 0.2951],\n",
       "         [0.0057, 0.1989, 0.4248, 0.8937, 0.1343, 0.2951]]])"
      ]
     },
     "execution_count": 43,
     "metadata": {},
     "output_type": "execute_result"
    }
   ],
   "source": [
    "a,b = torch.rand(2,3,3),torch.rand(2,2,3)\n",
    "temp([a,b])"
   ]
  },
  {
   "cell_type": "code",
   "execution_count": 44,
   "metadata": {},
   "outputs": [],
   "source": [
    "q = nn.Linear(6,4)\n",
    "qq = nn.Linear(4,1)"
   ]
  },
  {
   "cell_type": "code",
   "execution_count": 47,
   "metadata": {},
   "outputs": [
    {
     "data": {
      "text/plain": [
       "tensor([[[0.3714, 0.4482, 0.3880],\n",
       "         [0.3963, 0.4663, 0.4117]],\n",
       "\n",
       "        [[0.4021, 0.3688, 0.3310],\n",
       "         [0.4214, 0.3922, 0.3558]]], grad_fn=<ViewBackward>)"
      ]
     },
     "execution_count": 47,
     "metadata": {},
     "output_type": "execute_result"
    }
   ],
   "source": [
    "qq(q(temp([a,b])).tanh()).view(2,2,3)"
   ]
  },
  {
   "cell_type": "code",
   "execution_count": null,
   "metadata": {},
   "outputs": [],
   "source": []
  },
  {
   "cell_type": "code",
   "execution_count": null,
   "metadata": {},
   "outputs": [],
   "source": []
  },
  {
   "cell_type": "code",
   "execution_count": null,
   "metadata": {},
   "outputs": [],
   "source": []
  }
 ],
 "metadata": {
  "kernelspec": {
   "display_name": "Python 3",
   "language": "python",
   "name": "python3"
  },
  "language_info": {
   "codemirror_mode": {
    "name": "ipython",
    "version": 3
   },
   "file_extension": ".py",
   "mimetype": "text/x-python",
   "name": "python",
   "nbconvert_exporter": "python",
   "pygments_lexer": "ipython3",
   "version": "3.6.8"
  }
 },
 "nbformat": 4,
 "nbformat_minor": 2
}
