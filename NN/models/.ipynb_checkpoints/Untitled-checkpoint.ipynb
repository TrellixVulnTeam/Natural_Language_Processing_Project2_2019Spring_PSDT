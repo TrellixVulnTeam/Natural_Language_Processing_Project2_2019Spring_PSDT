{
 "cells": [
  {
   "cell_type": "code",
   "execution_count": 1,
   "metadata": {},
   "outputs": [],
   "source": [
    "import torch"
   ]
  },
  {
   "cell_type": "code",
   "execution_count": 22,
   "metadata": {},
   "outputs": [
    {
     "data": {
      "text/plain": [
       "tensor([[[0.2101, 0.4628],\n",
       "         [0.6537, 0.0214],\n",
       "         [0.6009, 0.5177]],\n",
       "\n",
       "        [[0.2565, 0.4515],\n",
       "         [0.9412, 0.4747],\n",
       "         [0.6102, 0.5131]]])"
      ]
     },
     "execution_count": 22,
     "metadata": {},
     "output_type": "execute_result"
    }
   ],
   "source": [
    "a = torch.rand(2,3,2)\n",
    "a"
   ]
  },
  {
   "cell_type": "code",
   "execution_count": 23,
   "metadata": {},
   "outputs": [
    {
     "data": {
      "text/plain": [
       "tensor([[[0.2101, 0.4628],\n",
       "         [0.2101, 0.4628],\n",
       "         [0.6537, 0.0214],\n",
       "         [0.6537, 0.0214],\n",
       "         [0.6009, 0.5177],\n",
       "         [0.6009, 0.5177]],\n",
       "\n",
       "        [[0.2565, 0.4515],\n",
       "         [0.2565, 0.4515],\n",
       "         [0.9412, 0.4747],\n",
       "         [0.9412, 0.4747],\n",
       "         [0.6102, 0.5131],\n",
       "         [0.6102, 0.5131]]])"
      ]
     },
     "execution_count": 23,
     "metadata": {},
     "output_type": "execute_result"
    }
   ],
   "source": [
    "a = a.repeat(1,1,2).view(2,6,2)\n",
    "a"
   ]
  },
  {
   "cell_type": "code",
   "execution_count": 25,
   "metadata": {},
   "outputs": [
    {
     "data": {
      "text/plain": [
       "tensor([[[0.5791, 0.0309],\n",
       "         [0.9972, 0.3074],\n",
       "         [0.5775, 0.1615]],\n",
       "\n",
       "        [[0.4667, 0.0237],\n",
       "         [0.1049, 0.1117],\n",
       "         [0.4052, 0.7630]]])"
      ]
     },
     "execution_count": 25,
     "metadata": {},
     "output_type": "execute_result"
    }
   ],
   "source": [
    "a = torch.rand(2,3,2)\n",
    "a"
   ]
  },
  {
   "cell_type": "code",
   "execution_count": 26,
   "metadata": {},
   "outputs": [
    {
     "data": {
      "text/plain": [
       "tensor([[[0.5791, 0.0309],\n",
       "         [0.9972, 0.3074],\n",
       "         [0.5775, 0.1615],\n",
       "         [0.5791, 0.0309],\n",
       "         [0.9972, 0.3074],\n",
       "         [0.5775, 0.1615]],\n",
       "\n",
       "        [[0.4667, 0.0237],\n",
       "         [0.1049, 0.1117],\n",
       "         [0.4052, 0.7630],\n",
       "         [0.4667, 0.0237],\n",
       "         [0.1049, 0.1117],\n",
       "         [0.4052, 0.7630]]])"
      ]
     },
     "execution_count": 26,
     "metadata": {},
     "output_type": "execute_result"
    }
   ],
   "source": [
    "a = a.repeat(1,2,1).view(2,6,2)\n",
    "a"
   ]
  },
  {
   "cell_type": "code",
   "execution_count": 27,
   "metadata": {},
   "outputs": [],
   "source": [
    "def temp(querys):\n",
    "    shapes = [querys[0].shape,querys[1].shape]\n",
    "\n",
    "    query_expand = [\n",
    "        querys[0].repeat(1,shapes[1][1],1),\n",
    "        querys[1].repeat(1,1,shapes[0][1]).view(shapes[1][0],shapes[1][1]*2,shapes[1][2])\n",
    "    ]\n",
    "    print(query_expand[0])\n",
    "    print(query_expand[1])"
   ]
  },
  {
   "cell_type": "code",
   "execution_count": null,
   "metadata": {},
   "outputs": [],
   "source": []
  }
 ],
 "metadata": {
  "kernelspec": {
   "display_name": "Python 3",
   "language": "python",
   "name": "python3"
  },
  "language_info": {
   "codemirror_mode": {
    "name": "ipython",
    "version": 3
   },
   "file_extension": ".py",
   "mimetype": "text/x-python",
   "name": "python",
   "nbconvert_exporter": "python",
   "pygments_lexer": "ipython3",
   "version": "3.6.8"
  }
 },
 "nbformat": 4,
 "nbformat_minor": 2
}
